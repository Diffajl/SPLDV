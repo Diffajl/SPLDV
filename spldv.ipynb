{
 "cells": [
  {
   "cell_type": "code",
   "execution_count": 2,
   "metadata": {},
   "outputs": [],
   "source": [
    "import numpy as np"
   ]
  },
  {
   "cell_type": "code",
   "execution_count": 3,
   "metadata": {},
   "outputs": [],
   "source": [
    "# persamaan 1\n",
    "# 10x + 15y = 5\n",
    "# persamaan 2\n",
    "# 10x + 6y = 32\n",
    "a = 10\n",
    "b = 15\n",
    "c = 5\n",
    "p = 10\n",
    "q = 6\n",
    "r = 32"
   ]
  },
  {
   "cell_type": "code",
   "execution_count": 4,
   "metadata": {},
   "outputs": [
    {
     "name": "stdout",
     "output_type": "stream",
     "text": [
      "Solusi : [[ 5.]\n",
      " [-3.]]\n"
     ]
    }
   ],
   "source": [
    "A = np.array([[a,b],\n",
    "              [p,q]])\n",
    "\n",
    "B = np.array([[c],\n",
    "              [r]])\n",
    "\n",
    "A_inv = np.linalg.inv(A)\n",
    "Z = np.linalg.solve(A,B)\n",
    "print(f\"Solusi : {Z}\")"
   ]
  },
  {
   "cell_type": "code",
   "execution_count": 5,
   "metadata": {},
   "outputs": [
    {
     "name": "stdout",
     "output_type": "stream",
     "text": [
      "X: 5.0\n",
      "Y: -3.0\n"
     ]
    }
   ],
   "source": [
    "x = (c*q-r*b)/(a*q-p*b)\n",
    "y = (1/b)*(c-a*x)\n",
    "print(f\"X: {x}\")\n",
    "print(f\"Y: {y}\")"
   ]
  }
 ],
 "metadata": {
  "kernelspec": {
   "display_name": "Python 3",
   "language": "python",
   "name": "python3"
  },
  "language_info": {
   "codemirror_mode": {
    "name": "ipython",
    "version": 3
   },
   "file_extension": ".py",
   "mimetype": "text/x-python",
   "name": "python",
   "nbconvert_exporter": "python",
   "pygments_lexer": "ipython3",
   "version": "3.12.1"
  },
  "orig_nbformat": 4
 },
 "nbformat": 4,
 "nbformat_minor": 2
}
